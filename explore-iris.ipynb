{
 "cells": [
  {
   "cell_type": "markdown",
   "metadata": {},
   "source": [
    "# Exploring Iris Dataset"
   ]
  },
  {
   "cell_type": "code",
   "execution_count": 44,
   "metadata": {},
   "outputs": [],
   "source": [
    "import pandas as pd\n",
    "import numpy as np\n",
    "import matplotlib\n",
    "import matplotlib.pyplot as plt\n",
    "import sklearn\n",
    "import seaborn as sns"
   ]
  },
  {
   "cell_type": "code",
   "execution_count": 45,
   "metadata": {},
   "outputs": [
    {
     "name": "stdout",
     "output_type": "stream",
     "text": [
      "Python 3.6.4 |Anaconda, Inc.| (default, Jan 16 2018, 18:10:19) \n",
      "[GCC 7.2.0]\n",
      "pandas 0.22.0\n",
      "numpy 1.14.0\n",
      "matplotlib 2.1.2\n",
      "seaborn 0.8.1\n",
      "sklearn 0.19.1\n"
     ]
    }
   ],
   "source": [
    "import sys\n",
    "\n",
    "print('Python', sys.version)\n",
    "\n",
    "print(pd.__name__, pd.__version__)\n",
    "print(np.__name__, np.__version__)\n",
    "print(matplotlib.__name__, matplotlib.__version__)\n",
    "print(sns.__name__, sns.__version__)\n",
    "print(sklearn.__name__, sklearn.__version__)"
   ]
  },
  {
   "cell_type": "code",
   "execution_count": 46,
   "metadata": {},
   "outputs": [],
   "source": [
    "### Load dataset\n",
    "iris = sns.load_dataset('iris')"
   ]
  },
  {
   "cell_type": "markdown",
   "metadata": {},
   "source": [
    "#### Let's review the data."
   ]
  },
  {
   "cell_type": "code",
   "execution_count": 47,
   "metadata": {},
   "outputs": [
    {
     "data": {
      "text/html": [
       "<div>\n",
       "<style scoped>\n",
       "    .dataframe tbody tr th:only-of-type {\n",
       "        vertical-align: middle;\n",
       "    }\n",
       "\n",
       "    .dataframe tbody tr th {\n",
       "        vertical-align: top;\n",
       "    }\n",
       "\n",
       "    .dataframe thead th {\n",
       "        text-align: right;\n",
       "    }\n",
       "</style>\n",
       "<table border=\"1\" class=\"dataframe\">\n",
       "  <thead>\n",
       "    <tr style=\"text-align: right;\">\n",
       "      <th></th>\n",
       "      <th>sepal_length</th>\n",
       "      <th>sepal_width</th>\n",
       "      <th>petal_length</th>\n",
       "      <th>petal_width</th>\n",
       "      <th>species</th>\n",
       "    </tr>\n",
       "  </thead>\n",
       "  <tbody>\n",
       "    <tr>\n",
       "      <th>0</th>\n",
       "      <td>5.1</td>\n",
       "      <td>3.5</td>\n",
       "      <td>1.4</td>\n",
       "      <td>0.2</td>\n",
       "      <td>setosa</td>\n",
       "    </tr>\n",
       "    <tr>\n",
       "      <th>90</th>\n",
       "      <td>5.5</td>\n",
       "      <td>2.6</td>\n",
       "      <td>4.4</td>\n",
       "      <td>1.2</td>\n",
       "      <td>versicolor</td>\n",
       "    </tr>\n",
       "    <tr>\n",
       "      <th>126</th>\n",
       "      <td>6.2</td>\n",
       "      <td>2.8</td>\n",
       "      <td>4.8</td>\n",
       "      <td>1.8</td>\n",
       "      <td>virginica</td>\n",
       "    </tr>\n",
       "    <tr>\n",
       "      <th>102</th>\n",
       "      <td>7.1</td>\n",
       "      <td>3.0</td>\n",
       "      <td>5.9</td>\n",
       "      <td>2.1</td>\n",
       "      <td>virginica</td>\n",
       "    </tr>\n",
       "    <tr>\n",
       "      <th>27</th>\n",
       "      <td>5.2</td>\n",
       "      <td>3.5</td>\n",
       "      <td>1.5</td>\n",
       "      <td>0.2</td>\n",
       "      <td>setosa</td>\n",
       "    </tr>\n",
       "    <tr>\n",
       "      <th>133</th>\n",
       "      <td>6.3</td>\n",
       "      <td>2.8</td>\n",
       "      <td>5.1</td>\n",
       "      <td>1.5</td>\n",
       "      <td>virginica</td>\n",
       "    </tr>\n",
       "    <tr>\n",
       "      <th>88</th>\n",
       "      <td>5.6</td>\n",
       "      <td>3.0</td>\n",
       "      <td>4.1</td>\n",
       "      <td>1.3</td>\n",
       "      <td>versicolor</td>\n",
       "    </tr>\n",
       "    <tr>\n",
       "      <th>21</th>\n",
       "      <td>5.1</td>\n",
       "      <td>3.7</td>\n",
       "      <td>1.5</td>\n",
       "      <td>0.4</td>\n",
       "      <td>setosa</td>\n",
       "    </tr>\n",
       "    <tr>\n",
       "      <th>119</th>\n",
       "      <td>6.0</td>\n",
       "      <td>2.2</td>\n",
       "      <td>5.0</td>\n",
       "      <td>1.5</td>\n",
       "      <td>virginica</td>\n",
       "    </tr>\n",
       "    <tr>\n",
       "      <th>79</th>\n",
       "      <td>5.7</td>\n",
       "      <td>2.6</td>\n",
       "      <td>3.5</td>\n",
       "      <td>1.0</td>\n",
       "      <td>versicolor</td>\n",
       "    </tr>\n",
       "  </tbody>\n",
       "</table>\n",
       "</div>"
      ],
      "text/plain": [
       "     sepal_length  sepal_width  petal_length  petal_width     species\n",
       "0             5.1          3.5           1.4          0.2      setosa\n",
       "90            5.5          2.6           4.4          1.2  versicolor\n",
       "126           6.2          2.8           4.8          1.8   virginica\n",
       "102           7.1          3.0           5.9          2.1   virginica\n",
       "27            5.2          3.5           1.5          0.2      setosa\n",
       "133           6.3          2.8           5.1          1.5   virginica\n",
       "88            5.6          3.0           4.1          1.3  versicolor\n",
       "21            5.1          3.7           1.5          0.4      setosa\n",
       "119           6.0          2.2           5.0          1.5   virginica\n",
       "79            5.7          2.6           3.5          1.0  versicolor"
      ]
     },
     "execution_count": 47,
     "metadata": {},
     "output_type": "execute_result"
    }
   ],
   "source": [
    "iris.sample(n=10)"
   ]
  },
  {
   "cell_type": "code",
   "execution_count": 48,
   "metadata": {},
   "outputs": [
    {
     "name": "stdout",
     "output_type": "stream",
     "text": [
      "<class 'pandas.core.frame.DataFrame'>\n",
      "RangeIndex: 150 entries, 0 to 149\n",
      "Data columns (total 5 columns):\n",
      "sepal_length    150 non-null float64\n",
      "sepal_width     150 non-null float64\n",
      "petal_length    150 non-null float64\n",
      "petal_width     150 non-null float64\n",
      "species         150 non-null object\n",
      "dtypes: float64(4), object(1)\n",
      "memory usage: 5.9+ KB\n"
     ]
    }
   ],
   "source": [
    "iris.info()"
   ]
  },
  {
   "cell_type": "code",
   "execution_count": null,
   "metadata": {},
   "outputs": [
    {
     "data": {
      "text/html": [
       "<div>\n",
       "<style scoped>\n",
       "    .dataframe tbody tr th:only-of-type {\n",
       "        vertical-align: middle;\n",
       "    }\n",
       "\n",
       "    .dataframe tbody tr th {\n",
       "        vertical-align: top;\n",
       "    }\n",
       "\n",
       "    .dataframe thead th {\n",
       "        text-align: right;\n",
       "    }\n",
       "</style>\n",
       "<table border=\"1\" class=\"dataframe\">\n",
       "  <thead>\n",
       "    <tr style=\"text-align: right;\">\n",
       "      <th></th>\n",
       "      <th>sepal_length</th>\n",
       "      <th>sepal_width</th>\n",
       "      <th>petal_length</th>\n",
       "      <th>petal_width</th>\n",
       "    </tr>\n",
       "  </thead>\n",
       "  <tbody>\n",
       "    <tr>\n",
       "      <th>count</th>\n",
       "      <td>150.000000</td>\n",
       "      <td>150.000000</td>\n",
       "      <td>150.000000</td>\n",
       "      <td>150.000000</td>\n",
       "    </tr>\n",
       "    <tr>\n",
       "      <th>mean</th>\n",
       "      <td>5.843333</td>\n",
       "      <td>3.057333</td>\n",
       "      <td>3.758000</td>\n",
       "      <td>1.199333</td>\n",
       "    </tr>\n",
       "    <tr>\n",
       "      <th>std</th>\n",
       "      <td>0.828066</td>\n",
       "      <td>0.435866</td>\n",
       "      <td>1.765298</td>\n",
       "      <td>0.762238</td>\n",
       "    </tr>\n",
       "    <tr>\n",
       "      <th>min</th>\n",
       "      <td>4.300000</td>\n",
       "      <td>2.000000</td>\n",
       "      <td>1.000000</td>\n",
       "      <td>0.100000</td>\n",
       "    </tr>\n",
       "    <tr>\n",
       "      <th>25%</th>\n",
       "      <td>5.100000</td>\n",
       "      <td>2.800000</td>\n",
       "      <td>1.600000</td>\n",
       "      <td>0.300000</td>\n",
       "    </tr>\n",
       "    <tr>\n",
       "      <th>50%</th>\n",
       "      <td>5.800000</td>\n",
       "      <td>3.000000</td>\n",
       "      <td>4.350000</td>\n",
       "      <td>1.300000</td>\n",
       "    </tr>\n",
       "    <tr>\n",
       "      <th>75%</th>\n",
       "      <td>6.400000</td>\n",
       "      <td>3.300000</td>\n",
       "      <td>5.100000</td>\n",
       "      <td>1.800000</td>\n",
       "    </tr>\n",
       "    <tr>\n",
       "      <th>max</th>\n",
       "      <td>7.900000</td>\n",
       "      <td>4.400000</td>\n",
       "      <td>6.900000</td>\n",
       "      <td>2.500000</td>\n",
       "    </tr>\n",
       "  </tbody>\n",
       "</table>\n",
       "</div>"
      ],
      "text/plain": [
       "       sepal_length  sepal_width  petal_length  petal_width\n",
       "count    150.000000   150.000000    150.000000   150.000000\n",
       "mean       5.843333     3.057333      3.758000     1.199333\n",
       "std        0.828066     0.435866      1.765298     0.762238\n",
       "min        4.300000     2.000000      1.000000     0.100000\n",
       "25%        5.100000     2.800000      1.600000     0.300000\n",
       "50%        5.800000     3.000000      4.350000     1.300000\n",
       "75%        6.400000     3.300000      5.100000     1.800000\n",
       "max        7.900000     4.400000      6.900000     2.500000"
      ]
     },
     "execution_count": 49,
     "metadata": {},
     "output_type": "execute_result"
    }
   ],
   "source": [
    "iris.describe()"
   ]
  },
  {
   "cell_type": "code",
   "execution_count": null,
   "metadata": {},
   "outputs": [],
   "source": [
    "fig, ax = plt.subplots(ncols=2, figsize=(20, 6), sharex=True)\n",
    "\n",
    "# sns.barplot(data=iris, x='species', y='petal_width')\n",
    "# plt.figure(figsize=(20, 10))\n",
    "\n",
    "iris['sepal_width'].plot('bar', legend=True, ax=ax[0], color='red')\n",
    "iris['petal_width'].plot('bar', legend=True, ax=ax[0], color='tab:orange')\n",
    "ax[0].set_title('Sepal Widths v/ Petal Widths')\n",
    "\n",
    "iris['sepal_length'].plot('bar', legend=True, ax=ax[1], color='tab:green')\n",
    "iris['petal_length'].plot('bar', legend=True, ax=ax[1], color='blue')\n",
    "ax[1].set_title('Sepal Lengths v/ Petal Lengths')\n",
    "\n",
    "plt.show()"
   ]
  },
  {
   "cell_type": "code",
   "execution_count": null,
   "metadata": {},
   "outputs": [],
   "source": [
    "fig, ax = plt.subplots(ncols=2, nrows=2, figsize=(15, 10), sharex=True)\n",
    "\n",
    "sns.distplot(iris['sepal_length'], ax=ax[0,0])\n",
    "sns.distplot(iris['petal_length'], ax=ax[0,1])\n",
    "sns.distplot(iris['sepal_width'], ax=ax[1,0])\n",
    "sns.distplot(iris['petal_width'], ax=ax[1,1])"
   ]
  },
  {
   "cell_type": "code",
   "execution_count": null,
   "metadata": {},
   "outputs": [],
   "source": [
    "sns.pairplot(iris, hue='species')"
   ]
  },
  {
   "cell_type": "code",
   "execution_count": null,
   "metadata": {},
   "outputs": [],
   "source": [
    "fig = iris[iris.species=='setosa'].plot.scatter(x='sepal_length', y='sepal_width', color='orange', label='setosa')\n",
    "iris[iris.species=='versicolor'].plot.scatter(x='sepal_length', y='sepal_width', color='blue', label='versicolor', ax=fig)\n",
    "iris[iris.species=='virginica'].plot.scatter(x='sepal_length', y='sepal_width',color='green', label='virginica', ax=fig)\n",
    "fig.set_xlabel(\"Sepal Length\")\n",
    "fig.set_ylabel(\"Sepal Width\")\n",
    "fig.set_title(\" Sepal Length v/ Width\")\n",
    "fig=plt.gcf()\n",
    "fig.set_size_inches(10, 6)\n",
    "plt.show()"
   ]
  },
  {
   "cell_type": "code",
   "execution_count": null,
   "metadata": {},
   "outputs": [],
   "source": [
    "fig = iris[iris.species=='setosa'].plot.scatter(x='petal_length', y='petal_width', color='orange', label='setosa')\n",
    "iris[iris.species=='versicolor'].plot.scatter(x='petal_length', y='petal_width', color='blue', label='versicolor', ax=fig)\n",
    "iris[iris.species=='virginica'].plot.scatter(x='petal_length', y='petal_width', color='green', label='virginica', ax=fig)\n",
    "fig.set_xlabel(\"Petal Length\")\n",
    "fig.set_ylabel(\"Petal Width\")\n",
    "fig.set_title(\" Petal Length v/ Width\")\n",
    "fig=plt.gcf()\n",
    "fig.set_size_inches(10,6)\n",
    "plt.show()"
   ]
  },
  {
   "cell_type": "code",
   "execution_count": null,
   "metadata": {},
   "outputs": [],
   "source": [
    "cols = ['sepal_length', 'sepal_width', 'petal_length', 'petal_width']\n",
    "corr_matrix = iris[cols].corr()\n",
    "\n",
    "heatmap = sns.heatmap(corr_matrix, cbar=True, annot=True, square=True, fmt='.2f', annot_kws={'size': 15}, yticklabels=cols, xticklabels=cols, cmap='Set1')"
   ]
  },
  {
   "cell_type": "code",
   "execution_count": null,
   "metadata": {},
   "outputs": [],
   "source": [
    "strip_plot = False\n",
    "\n",
    "plt.figure(figsize=(15,10))\n",
    "plt.subplot(2,2,1)\n",
    "sns.violinplot(x='species',y='petal_length',data=iris)\n",
    "if strip_plot: ax = sns.stripplot(x=\"species\", y=\"petal_length\", data=iris, jitter=True, edgecolor=\"gray\")\n",
    "\n",
    "plt.subplot(2,2,2)\n",
    "sns.violinplot(x='species',y='petal_width',data=iris)\n",
    "if strip_plot: ax = sns.stripplot(x=\"species\", y=\"petal_width\", data=iris, jitter=True, edgecolor=\"gray\")\n",
    "\n",
    "plt.subplot(2,2,3)\n",
    "sns.violinplot(x='species',y='sepal_length',data=iris)\n",
    "if strip_plot: ax = sns.stripplot(x=\"species\", y=\"sepal_length\", data=iris, jitter=True, edgecolor=\"gray\")\n",
    "\n",
    "plt.subplot(2,2,4)\n",
    "sns.violinplot(x='species',y='sepal_width',data=iris)\n",
    "if strip_plot: ax = sns.stripplot(x=\"species\", y=\"sepal_width\", data=iris, jitter=True, edgecolor=\"gray\")"
   ]
  },
  {
   "cell_type": "markdown",
   "metadata": {},
   "source": [
    "### Split the data from training and testing"
   ]
  },
  {
   "cell_type": "code",
   "execution_count": null,
   "metadata": {},
   "outputs": [],
   "source": [
    "from sklearn.model_selection import train_test_split\n",
    "\n",
    "x_train, x_test, y_train, y_test = train_test_split(iris.drop('species', axis=1), iris['species'], test_size=0.33, random_state=323)\n",
    "\n",
    "### This gives 0% accuracy\n",
    "# x = iris.drop('species', axis=1); y = iris['species']\n",
    "# x_train, x_test, y_train, y_test = (x[:100], x[100:], y[:100], y[100:])"
   ]
  },
  {
   "cell_type": "code",
   "execution_count": null,
   "metadata": {},
   "outputs": [],
   "source": [
    "plt.figure(figsize=(20,15))\n",
    "\n",
    "plt.subplot(2,2,1)\n",
    "sns.boxplot(data=iris)\n",
    "\n",
    "plt.subplot(2,2,2)\n",
    "sns.boxplot(data=x_train)\n",
    "\n",
    "plt.subplot(2,2,3)\n",
    "sns.boxplot(data=x_test)"
   ]
  },
  {
   "cell_type": "markdown",
   "metadata": {},
   "source": [
    "#### Let's take a peek in test and training data."
   ]
  },
  {
   "cell_type": "code",
   "execution_count": null,
   "metadata": {},
   "outputs": [],
   "source": [
    "x_train.head()"
   ]
  },
  {
   "cell_type": "code",
   "execution_count": null,
   "metadata": {},
   "outputs": [],
   "source": [
    "y_train.head()"
   ]
  },
  {
   "cell_type": "code",
   "execution_count": null,
   "metadata": {},
   "outputs": [],
   "source": [
    "x_test.head()"
   ]
  },
  {
   "cell_type": "code",
   "execution_count": null,
   "metadata": {},
   "outputs": [],
   "source": [
    "y_test.head()"
   ]
  },
  {
   "cell_type": "code",
   "execution_count": null,
   "metadata": {},
   "outputs": [],
   "source": [
    "models = [] ### Add different models here for cross validation later"
   ]
  },
  {
   "cell_type": "markdown",
   "metadata": {},
   "source": [
    "### Logistic Regression"
   ]
  },
  {
   "cell_type": "code",
   "execution_count": null,
   "metadata": {},
   "outputs": [],
   "source": [
    "from sklearn.linear_model import LogisticRegression\n",
    "# LogisticRegression?"
   ]
  },
  {
   "cell_type": "code",
   "execution_count": null,
   "metadata": {},
   "outputs": [],
   "source": [
    "lr = LogisticRegression(C=10, intercept_scaling=0.25, tol=1e-8)\n",
    "lr"
   ]
  },
  {
   "cell_type": "code",
   "execution_count": null,
   "metadata": {},
   "outputs": [],
   "source": [
    "########## Tuning hyperparameters #############################################\n",
    "# from sklearn.grid_search import RandomizedSearchCV, GridSearchCV\n",
    "\n",
    "# params = {\n",
    "#     \"C\": [0.01, 0.001, 0.001, 0.0001, 0.00001, 0.1, 1, 10, 100, 1000, 10000],\n",
    "#     \"fit_intercept\": [True, False],\n",
    "#     \"penalty\": [\"l2\"],\n",
    "#     \"tol\":     \"tol\": [1e-8, 1e-4],\n",
    "#     \"intercept_scaling\": [0.25, 0.5, 0.75, 1, 1.25, 1.5, 1.75, 2],\n",
    "#     \"solver\": [\"newton-cg\", \"lbfgs\", \"liblinear\"], # \"sag\", \"saga\"],\n",
    "#     \"max_iter\": [100, 200, 500, 1000, 10000], \n",
    "# }\n",
    "\n",
    "# grid = GridSearchCV(lr, params, verbose=True)\n",
    "# grid.fit(x_train, y_train)\n",
    "# print(grid.best_params_)\n",
    "# print(grid.score(x_test, y_test))"
   ]
  },
  {
   "cell_type": "code",
   "execution_count": null,
   "metadata": {},
   "outputs": [],
   "source": [
    "# lr.fit(x_train, y_train)\n",
    "\n",
    "models.append((\"LR\", lr))\n",
    "models.append((\"LR untuned\", LogisticRegression()))"
   ]
  },
  {
   "cell_type": "code",
   "execution_count": null,
   "metadata": {},
   "outputs": [],
   "source": [
    "from sklearn.metrics import accuracy_score\n",
    "\n",
    "# y_model = lr.predict(x_test)\n",
    "# accuracy_score(y_model, y_test)\n",
    "\n",
    "## (lr.predict(x_test) == y_test).value_counts()"
   ]
  },
  {
   "cell_type": "markdown",
   "metadata": {},
   "source": [
    "### Support Vector Classifier"
   ]
  },
  {
   "cell_type": "code",
   "execution_count": null,
   "metadata": {},
   "outputs": [],
   "source": [
    "from sklearn.svm import SVC\n",
    "\n",
    "model = SVC(C=10, kernel='linear', tol=1e-8)\n",
    "\n",
    "# model.fit(x_train, y_train)\n",
    "\n",
    "print(model)\n",
    "\n",
    "models.append((\"SVC\", model))\n",
    "models.append((\"SVC untuned\", SVC()))"
   ]
  },
  {
   "cell_type": "code",
   "execution_count": null,
   "metadata": {},
   "outputs": [],
   "source": [
    "# ########## Tuning hyperparameters of SVM #############################################\n",
    "# from sklearn.grid_search import RandomizedSearchCV, GridSearchCV\n",
    "\n",
    "# params = {\n",
    "#     \"C\": [0.01, 0.001, 0.001, 0.0001, 0.00001, 0.1, 1, 10, 100, 1000, 10000],\n",
    "#     \"kernel\": ['linear', 'poly', 'rbf', 'sigmoid'],\n",
    "#     'degree': [3, 4, 5],\n",
    "#     \"shrinking\": [True, False],\n",
    "#     \"tol\": [1e-8, 1e-4],\n",
    "# }\n",
    "\n",
    "# grid = GridSearchCV(model, params, verbose=True)\n",
    "# grid.fit(x_train, y_train)\n",
    "# print(grid.best_params_)\n",
    "# print(grid.score(x_test, y_test))"
   ]
  },
  {
   "cell_type": "code",
   "execution_count": null,
   "metadata": {},
   "outputs": [],
   "source": [
    "# y_model = model.predict(x_test)\n",
    "# accuracy_score(y_model, y_test)"
   ]
  },
  {
   "cell_type": "markdown",
   "metadata": {},
   "source": [
    "### Decision Classifier"
   ]
  },
  {
   "cell_type": "code",
   "execution_count": null,
   "metadata": {},
   "outputs": [],
   "source": [
    "from sklearn.tree import DecisionTreeClassifier\n",
    "\n",
    "model = DecisionTreeClassifier(max_depth=5, min_samples_leaf=5, presort=True)\n",
    "\n",
    "# model.fit(x_train, y_train)\n",
    "\n",
    "models.append((\"DTC\", model))\n",
    "models.append((\"DTC untuned\", DecisionTreeClassifier()))\n",
    "\n",
    "# y_model = model.predict(x_test)\n",
    "# accuracy_score(y_model, y_test)"
   ]
  },
  {
   "cell_type": "code",
   "execution_count": null,
   "metadata": {},
   "outputs": [],
   "source": [
    "# ########## Tuning hyperparameters of DecisionClassifier #############################################\n",
    "# from sklearn.grid_search import RandomizedSearchCV, GridSearchCV\n",
    "\n",
    "# params = {\n",
    "#     \"criterion\": ['gini', 'entropy'],\n",
    "#     \"max_depth\": [2, 3, 4, 5, 6, 7, 8, 9, 10, None],\n",
    "#     'min_samples_split': [2, 3, 4, 5, 6, 7, 8, 9, 10],\n",
    "# #     \"min_samples_leaf\": [1,2,3,4,5,6,7,8,9,10],\n",
    "# #     \"min_weight_fraction_leaf\": [0.1, 0.2, 0.3, 0.5],\n",
    "#     \"max_features\": [\"auto\", \"sqrt\", \"log2\", 1,2,3,4, None],\n",
    "#     \"presort\": [True, False],\n",
    "# }\n",
    "\n",
    "# grid = GridSearchCV(model, params, verbose=True)\n",
    "# grid.fit(x_train, y_train)\n",
    "# print(grid.best_params_)\n",
    "# print(grid.score(x_test, y_test))"
   ]
  },
  {
   "cell_type": "markdown",
   "metadata": {},
   "source": [
    "### K-Nearest Neighbours Classifier"
   ]
  },
  {
   "cell_type": "code",
   "execution_count": null,
   "metadata": {},
   "outputs": [],
   "source": [
    "from sklearn.neighbors import KNeighborsClassifier\n",
    "\n",
    "model = KNeighborsClassifier(n_neighbors=3)\n",
    "\n",
    "# model.fit(x_train, y_train)\n",
    "\n",
    "models.append((\"KNN\", model))\n",
    "\n",
    "# y_model = model.predict(x_test)\n",
    "# accuracy_score(y_model, y_test)"
   ]
  },
  {
   "cell_type": "code",
   "execution_count": null,
   "metadata": {},
   "outputs": [],
   "source": [
    "# ########## Tuning hyperparameters of KNN #############################################\n",
    "# from sklearn.grid_search import RandomizedSearchCV, GridSearchCV\n",
    "\n",
    "# params = {\n",
    "#     \"weights\": ['uniform', 'distance'],\n",
    "#     \"algorithm\": ['ball_tree', 'kd_tree', 'brute', 'auto'],\n",
    "#     'leaf_size': [1,2,3,4,5,10,20, 30, 40, 50],\n",
    "#     \"p\": [1,2,3, 4,5,6,7,8,9],\n",
    "# }\n",
    "\n",
    "# grid = GridSearchCV(model, params, verbose=True)\n",
    "# grid.fit(x_train, y_train)\n",
    "# print(grid.best_params_)\n",
    "# print(grid.score(x_test, y_test))"
   ]
  },
  {
   "cell_type": "markdown",
   "metadata": {},
   "source": [
    "### Random Forest Classifier"
   ]
  },
  {
   "cell_type": "code",
   "execution_count": null,
   "metadata": {},
   "outputs": [],
   "source": [
    "from sklearn.ensemble import RandomForestClassifier\n",
    "\n",
    "model = RandomForestClassifier(max_depth=2, random_state=0)\n",
    "\n",
    "model.fit(x_train, y_train)\n",
    "\n",
    "models.append((\"RFC\", model))\n",
    "\n",
    "# y_model = model.predict(x_test)\n",
    "# accuracy_score(y_model, y_test)"
   ]
  },
  {
   "cell_type": "markdown",
   "metadata": {},
   "source": [
    "### Naive Bayes"
   ]
  },
  {
   "cell_type": "code",
   "execution_count": null,
   "metadata": {},
   "outputs": [],
   "source": [
    "from sklearn.naive_bayes import GaussianNB, BernoulliNB, MultinomialNB\n",
    "\n",
    "model = GaussianNB()\n",
    "\n",
    "model.fit(x_train, y_train)\\\n",
    "\n",
    "models.append((\"GNB\", model))\n",
    "\n",
    "# y_model = model.predict(x_test)\n",
    "# print(accuracy_score(y_model, y_test))\n",
    "\n",
    "model = MultinomialNB()\n",
    "\n",
    "# model.fit(x_train, y_train)\n",
    "\n",
    "models.append((\"MNB\", model))\n",
    "\n",
    "# y_model = model.predict(x_test)\n",
    "\n",
    "# print(accuracy_score(y_model, y_test))"
   ]
  },
  {
   "cell_type": "markdown",
   "metadata": {},
   "source": [
    "### Results:"
   ]
  },
  {
   "cell_type": "code",
   "execution_count": null,
   "metadata": {},
   "outputs": [],
   "source": [
    "from sklearn.model_selection import KFold\n",
    "from sklearn.model_selection import cross_val_score\n",
    "\n",
    "results = []\n",
    "names = []\n",
    "for name,model in models:\n",
    "    kfold = KFold(n_splits=10, random_state=22)\n",
    "    cv_result = cross_val_score(model, iris.drop('species', axis=1), iris['species'], cv = kfold, scoring = \"accuracy\")\n",
    "    names.append(name)\n",
    "    results.append(cv_result)\n",
    "    \n",
    "for i in range(len(names)):\n",
    "    print(names[i],results[i].mean())"
   ]
  },
  {
   "cell_type": "code",
   "execution_count": null,
   "metadata": {},
   "outputs": [],
   "source": [
    "plt.figure(figsize=(15, 10))\n",
    "ax = sns.violinplot(data=results)\n",
    "ax.set_xticklabels(names)"
   ]
  },
  {
   "cell_type": "markdown",
   "metadata": {},
   "source": [
    "### Dimension Reduction\n",
    "\n",
    "#### PCA\n",
    "**To-do**: Review later. Not accurate than previous."
   ]
  },
  {
   "cell_type": "code",
   "execution_count": null,
   "metadata": {},
   "outputs": [],
   "source": [
    "from sklearn.decomposition import PCA\n",
    "\n",
    "pca = PCA(n_components=2)\n",
    "\n",
    "iris['pca0'] = pca.fit(iris.drop('species', axis=1)).transform(iris.drop('species', axis=1))[:, 0]\n",
    "iris['pca1'] = pca.fit(iris.drop('species', axis=1)).transform(iris.drop('species', axis=1))[:, 1]"
   ]
  },
  {
   "cell_type": "code",
   "execution_count": null,
   "metadata": {},
   "outputs": [],
   "source": [
    "sns_data = iris[['species', 'pca0', 'pca1']]\n",
    "sns.pairplot(data=sns_data, hue='species')\n",
    "\n",
    "iris.drop(['pca0', 'pca1'], axis=1, inplace=True)"
   ]
  },
  {
   "cell_type": "code",
   "execution_count": null,
   "metadata": {},
   "outputs": [],
   "source": [
    "sns_data.head()"
   ]
  },
  {
   "cell_type": "code",
   "execution_count": null,
   "metadata": {},
   "outputs": [],
   "source": [
    "lr1 = LogisticRegression()\n",
    "\n",
    "x1_train, x1_test, y1_train, y1_test = train_test_split(sns_data.drop('species', axis=1), sns_data['species'], test_size=0.33, random_state=323)\n",
    "\n",
    "lr1.fit(x1_train, y1_train)\n",
    "\n",
    "y1_model= lr1.predict(x1_test)\n",
    "\n",
    "accuracy_score(y1_model, y1_test)"
   ]
  },
  {
   "cell_type": "code",
   "execution_count": null,
   "metadata": {},
   "outputs": [],
   "source": [
    "plt.figure(figsize=(10,10))\n",
    "\n",
    "plt.subplot(2,3,1)\n",
    "sns.boxplot(data=sns_data)\n",
    "\n",
    "plt.subplot(2,3,2)\n",
    "sns.boxplot(data=x1_train)\n",
    "\n",
    "plt.subplot(2,3,3)\n",
    "sns.boxplot(data=x1_test)"
   ]
  },
  {
   "cell_type": "code",
   "execution_count": null,
   "metadata": {},
   "outputs": [],
   "source": [
    "plt.figure(figsize=(15,10))\n",
    "\n",
    "plt.subplot(2,2,1)\n",
    "sns.violinplot(x='species', y='pca0', data=sns_data)\n",
    "\n",
    "plt.subplot(2,2,2)\n",
    "sns.violinplot(x='species', y='pca1', data=sns_data)"
   ]
  },
  {
   "cell_type": "code",
   "execution_count": null,
   "metadata": {},
   "outputs": [],
   "source": [
    "cols = ['pca0', 'pca1']\n",
    "corr_matrix = sns_data[cols].corr()\n",
    "\n",
    "heatmap = sns.heatmap(corr_matrix, cbar=True, annot=True, square=True, fmt='.2f', annot_kws={'size': 15}, yticklabels=cols, xticklabels=cols, cmap='Dark2')"
   ]
  }
 ],
 "metadata": {
  "kernelspec": {
   "display_name": "Python 3",
   "language": "python",
   "name": "python3"
  },
  "language_info": {
   "codemirror_mode": {
    "name": "ipython",
    "version": 3
   },
   "file_extension": ".py",
   "mimetype": "text/x-python",
   "name": "python",
   "nbconvert_exporter": "python",
   "pygments_lexer": "ipython3",
   "version": "3.6.4"
  }
 },
 "nbformat": 4,
 "nbformat_minor": 2
}
